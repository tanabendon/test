{
 "cells": [
  {
   "cell_type": "code",
   "execution_count": null,
   "metadata": {},
   "outputs": [
    {
     "data": {
      "text/html": [
       "<div>\n",
       "<style scoped>\n",
       "    .dataframe tbody tr th:only-of-type {\n",
       "        vertical-align: middle;\n",
       "    }\n",
       "\n",
       "    .dataframe tbody tr th {\n",
       "        vertical-align: top;\n",
       "    }\n",
       "\n",
       "    .dataframe thead th {\n",
       "        text-align: right;\n",
       "    }\n",
       "</style>\n",
       "<table border=\"1\" class=\"dataframe\">\n",
       "  <thead>\n",
       "    <tr style=\"text-align: right;\">\n",
       "      <th></th>\n",
       "      <th>職缺大</th>\n",
       "      <th>職缺中</th>\n",
       "      <th>工作內容斷詞後</th>\n",
       "    </tr>\n",
       "  </thead>\n",
       "  <tbody>\n",
       "    <tr>\n",
       "      <td>0</td>\n",
       "      <td>其他專業</td>\n",
       "      <td>保全警衛</td>\n",
       "      <td>巡邏 保全 客戶 事故 狀況 檢修 保全 系統</td>\n",
       "    </tr>\n",
       "    <tr>\n",
       "      <td>1</td>\n",
       "      <td>其他專業</td>\n",
       "      <td>保全警衛</td>\n",
       "      <td>辦公 大樓 管制 工作</td>\n",
       "    </tr>\n",
       "    <tr>\n",
       "      <td>2</td>\n",
       "      <td>其他專業</td>\n",
       "      <td>保全警衛</td>\n",
       "      <td>職務 免稅店 環境 賣場 維護 .. 相關 事務 需求 條件 高中職 畢 細心 負責 具 服...</td>\n",
       "    </tr>\n",
       "    <tr>\n",
       "      <td>3</td>\n",
       "      <td>其他專業</td>\n",
       "      <td>保全警衛</td>\n",
       "      <td>排班制 三 班制 輪班</td>\n",
       "    </tr>\n",
       "    <tr>\n",
       "      <td>4</td>\n",
       "      <td>其他專業</td>\n",
       "      <td>保全警衛</td>\n",
       "      <td>門禁 管制 人員 ※ 月休 天 ※ 工作 內容 訪客 來賓 出入 管制 車輛 出入 管制 場...</td>\n",
       "    </tr>\n",
       "    <tr>\n",
       "      <td>...</td>\n",
       "      <td>...</td>\n",
       "      <td>...</td>\n",
       "      <td>...</td>\n",
       "    </tr>\n",
       "    <tr>\n",
       "      <td>296947</td>\n",
       "      <td>製造工程</td>\n",
       "      <td>軟體工程</td>\n",
       "      <td>解決 內部 流程 改善 一線 障礙 研判 故障 排除 負責 電腦 網路 軟 硬體 系統 周邊...</td>\n",
       "    </tr>\n",
       "    <tr>\n",
       "      <td>296948</td>\n",
       "      <td>製造工程</td>\n",
       "      <td>軟體工程</td>\n",
       "      <td>熟悉 NETFramework C ASP NET 熟悉 SQL 語法 預儲 程序 MSSQ...</td>\n",
       "    </tr>\n",
       "    <tr>\n",
       "      <td>296949</td>\n",
       "      <td>製造工程</td>\n",
       "      <td>軟體工程</td>\n",
       "      <td>職務 類別 AI 人工 智慧 研發 工程師 人工 智慧 資料 科學家 學歷 學士 碩士 學歷...</td>\n",
       "    </tr>\n",
       "    <tr>\n",
       "      <td>296950</td>\n",
       "      <td>製造工程</td>\n",
       "      <td>軟體工程</td>\n",
       "      <td>職務 類別 資訊 工程師 學歷 學士 碩士 學歷 日間部 畢 科系 資訊 工程 相關 系所 ...</td>\n",
       "    </tr>\n",
       "    <tr>\n",
       "      <td>296951</td>\n",
       "      <td>製造工程</td>\n",
       "      <td>軟體工程</td>\n",
       "      <td>產品 生產 測試 程式 開發 驗證 Windows 程式 參與 IoT 產品 軟 韌體 開發...</td>\n",
       "    </tr>\n",
       "  </tbody>\n",
       "</table>\n",
       "<p>296952 rows × 3 columns</p>\n",
       "</div>"
      ],
      "text/plain": [
       "         職缺大   職缺中                                            工作內容斷詞後\n",
       "0       其他專業  保全警衛                           巡邏 保全 客戶 事故 狀況 檢修 保全 系統 \n",
       "1       其他專業  保全警衛                                       辦公 大樓 管制 工作 \n",
       "2       其他專業  保全警衛  職務 免稅店 環境 賣場 維護 .. 相關 事務 需求 條件 高中職 畢 細心 負責 具 服...\n",
       "3       其他專業  保全警衛                                       排班制 三 班制 輪班 \n",
       "4       其他專業  保全警衛  門禁 管制 人員 ※ 月休 天 ※ 工作 內容 訪客 來賓 出入 管制 車輛 出入 管制 場...\n",
       "...      ...   ...                                                ...\n",
       "296947  製造工程  軟體工程  解決 內部 流程 改善 一線 障礙 研判 故障 排除 負責 電腦 網路 軟 硬體 系統 周邊...\n",
       "296948  製造工程  軟體工程  熟悉 NETFramework C ASP NET 熟悉 SQL 語法 預儲 程序 MSSQ...\n",
       "296949  製造工程  軟體工程  職務 類別 AI 人工 智慧 研發 工程師 人工 智慧 資料 科學家 學歷 學士 碩士 學歷...\n",
       "296950  製造工程  軟體工程  職務 類別 資訊 工程師 學歷 學士 碩士 學歷 日間部 畢 科系 資訊 工程 相關 系所 ...\n",
       "296951  製造工程  軟體工程  產品 生產 測試 程式 開發 驗證 Windows 程式 參與 IoT 產品 軟 韌體 開發...\n",
       "\n",
       "[296952 rows x 3 columns]"
      ]
     },
     "execution_count": 1,
     "metadata": {},
     "output_type": "execute_result"
    }
   ],
   "source": [
    "import pandas as pd\n",
    "train_df = pd.read_csv(\"job1/jobcut(big).csv\", encoding=\"utf-8\")\n",
    "train_df"
   ]
  },
  {
   "cell_type": "code",
   "execution_count": 2,
   "metadata": {},
   "outputs": [
    {
     "data": {
      "text/html": [
       "<div>\n",
       "<style scoped>\n",
       "    .dataframe tbody tr th:only-of-type {\n",
       "        vertical-align: middle;\n",
       "    }\n",
       "\n",
       "    .dataframe tbody tr th {\n",
       "        vertical-align: top;\n",
       "    }\n",
       "\n",
       "    .dataframe thead th {\n",
       "        text-align: right;\n",
       "    }\n",
       "</style>\n",
       "<table border=\"1\" class=\"dataframe\">\n",
       "  <thead>\n",
       "    <tr style=\"text-align: right;\">\n",
       "      <th></th>\n",
       "      <th>職缺大</th>\n",
       "      <th>職缺中</th>\n",
       "      <th>工作內容斷詞後</th>\n",
       "    </tr>\n",
       "  </thead>\n",
       "  <tbody>\n",
       "    <tr>\n",
       "      <td>0</td>\n",
       "      <td>0</td>\n",
       "      <td>保全警衛</td>\n",
       "      <td>巡邏 保全 客戶 事故 狀況 檢修 保全 系統</td>\n",
       "    </tr>\n",
       "    <tr>\n",
       "      <td>1</td>\n",
       "      <td>0</td>\n",
       "      <td>保全警衛</td>\n",
       "      <td>辦公 大樓 管制 工作</td>\n",
       "    </tr>\n",
       "    <tr>\n",
       "      <td>2</td>\n",
       "      <td>0</td>\n",
       "      <td>保全警衛</td>\n",
       "      <td>職務 免稅店 環境 賣場 維護 .. 相關 事務 需求 條件 高中職 畢 細心 負責 具 服...</td>\n",
       "    </tr>\n",
       "    <tr>\n",
       "      <td>3</td>\n",
       "      <td>0</td>\n",
       "      <td>保全警衛</td>\n",
       "      <td>排班制 三 班制 輪班</td>\n",
       "    </tr>\n",
       "    <tr>\n",
       "      <td>4</td>\n",
       "      <td>0</td>\n",
       "      <td>保全警衛</td>\n",
       "      <td>門禁 管制 人員 ※ 月休 天 ※ 工作 內容 訪客 來賓 出入 管制 車輛 出入 管制 場...</td>\n",
       "    </tr>\n",
       "    <tr>\n",
       "      <td>...</td>\n",
       "      <td>...</td>\n",
       "      <td>...</td>\n",
       "      <td>...</td>\n",
       "    </tr>\n",
       "    <tr>\n",
       "      <td>296947</td>\n",
       "      <td>5</td>\n",
       "      <td>軟體工程</td>\n",
       "      <td>解決 內部 流程 改善 一線 障礙 研判 故障 排除 負責 電腦 網路 軟 硬體 系統 周邊...</td>\n",
       "    </tr>\n",
       "    <tr>\n",
       "      <td>296948</td>\n",
       "      <td>5</td>\n",
       "      <td>軟體工程</td>\n",
       "      <td>熟悉 NETFramework C ASP NET 熟悉 SQL 語法 預儲 程序 MSSQ...</td>\n",
       "    </tr>\n",
       "    <tr>\n",
       "      <td>296949</td>\n",
       "      <td>5</td>\n",
       "      <td>軟體工程</td>\n",
       "      <td>職務 類別 AI 人工 智慧 研發 工程師 人工 智慧 資料 科學家 學歷 學士 碩士 學歷...</td>\n",
       "    </tr>\n",
       "    <tr>\n",
       "      <td>296950</td>\n",
       "      <td>5</td>\n",
       "      <td>軟體工程</td>\n",
       "      <td>職務 類別 資訊 工程師 學歷 學士 碩士 學歷 日間部 畢 科系 資訊 工程 相關 系所 ...</td>\n",
       "    </tr>\n",
       "    <tr>\n",
       "      <td>296951</td>\n",
       "      <td>5</td>\n",
       "      <td>軟體工程</td>\n",
       "      <td>產品 生產 測試 程式 開發 驗證 Windows 程式 參與 IoT 產品 軟 韌體 開發...</td>\n",
       "    </tr>\n",
       "  </tbody>\n",
       "</table>\n",
       "<p>296952 rows × 3 columns</p>\n",
       "</div>"
      ],
      "text/plain": [
       "        職缺大   職缺中                                            工作內容斷詞後\n",
       "0         0  保全警衛                           巡邏 保全 客戶 事故 狀況 檢修 保全 系統 \n",
       "1         0  保全警衛                                       辦公 大樓 管制 工作 \n",
       "2         0  保全警衛  職務 免稅店 環境 賣場 維護 .. 相關 事務 需求 條件 高中職 畢 細心 負責 具 服...\n",
       "3         0  保全警衛                                       排班制 三 班制 輪班 \n",
       "4         0  保全警衛  門禁 管制 人員 ※ 月休 天 ※ 工作 內容 訪客 來賓 出入 管制 車輛 出入 管制 場...\n",
       "...     ...   ...                                                ...\n",
       "296947    5  軟體工程  解決 內部 流程 改善 一線 障礙 研判 故障 排除 負責 電腦 網路 軟 硬體 系統 周邊...\n",
       "296948    5  軟體工程  熟悉 NETFramework C ASP NET 熟悉 SQL 語法 預儲 程序 MSSQ...\n",
       "296949    5  軟體工程  職務 類別 AI 人工 智慧 研發 工程師 人工 智慧 資料 科學家 學歷 學士 碩士 學歷...\n",
       "296950    5  軟體工程  職務 類別 資訊 工程師 學歷 學士 碩士 學歷 日間部 畢 科系 資訊 工程 相關 系所 ...\n",
       "296951    5  軟體工程  產品 生產 測試 程式 開發 驗證 Windows 程式 參與 IoT 產品 軟 韌體 開發...\n",
       "\n",
       "[296952 rows x 3 columns]"
      ]
     },
     "execution_count": 2,
     "metadata": {},
     "output_type": "execute_result"
    }
   ],
   "source": [
    "trans = {\"其他專業\":0, \"客服支援\":1, \"教育傳播\":2,\"管理財經\":3,\"行銷業務\":4,\"製造工程\":5}\n",
    "train_df[\"職缺大\"] = train_df[\"職缺大\"].replace(trans)\n",
    "train_df\n"
   ]
  },
  {
   "cell_type": "code",
   "execution_count": 3,
   "metadata": {},
   "outputs": [
    {
     "data": {
      "text/plain": [
       "158687    4\n",
       "240107    5\n",
       "34663     0\n",
       "192718    4\n",
       "56557     0\n",
       "         ..\n",
       "38095     0\n",
       "138367    3\n",
       "205491    4\n",
       "38393     0\n",
       "140032    3\n",
       "Name: 職缺大, Length: 267256, dtype: int64"
      ]
     },
     "execution_count": 3,
     "metadata": {},
     "output_type": "execute_result"
    }
   ],
   "source": [
    "from sklearn.model_selection import train_test_split\n",
    "x_train_df, x_test_df, y_train_df, y_test_df =train_test_split(train_df[\"工作內容斷詞後\"],train_df[\"職缺大\"],test_size=0.1)\n",
    "y_train_df"
   ]
  },
  {
   "cell_type": "code",
   "execution_count": 4,
   "metadata": {},
   "outputs": [],
   "source": [
    "from sklearn.feature_extraction.text import CountVectorizer\n",
    "vec = CountVectorizer()\n",
    "x_train_vec = vec.fit_transform(x_train_df.values.astype('U'))"
   ]
  },
  {
   "cell_type": "code",
   "execution_count": 5,
   "metadata": {},
   "outputs": [],
   "source": [
    "from jieba import cut\n",
    "def poemcut(s):\n",
    "    s = s.replace(\"\\r\", \"\").replace(\"\\n\", \"\")\n",
    "    return \" \".join(cut(s))"
   ]
  },
  {
   "cell_type": "code",
   "execution_count": 6,
   "metadata": {},
   "outputs": [
    {
     "name": "stdout",
     "output_type": "stream",
     "text": [
      "  (0, 193176)\t2\n",
      "  (0, 217852)\t2\n",
      "  (0, 188851)\t1\n",
      "  (0, 184208)\t1\n",
      "  (0, 192437)\t1\n",
      "  (0, 190374)\t1\n",
      "  (0, 201513)\t1\n",
      "  (0, 211309)\t1\n",
      "  (0, 210808)\t1\n",
      "  (0, 204216)\t1\n",
      "  (0, 197060)\t1\n",
      "  (0, 184749)\t1\n",
      "  (0, 201898)\t2\n",
      "  (0, 220464)\t1\n",
      "  (0, 217392)\t1\n",
      "  (0, 204757)\t1\n",
      "  (0, 223853)\t2\n",
      "  (0, 221298)\t1\n",
      "  (0, 245223)\t1\n",
      "  (0, 183811)\t1\n",
      "  (0, 237405)\t1\n",
      "  (0, 186233)\t2\n",
      "  (0, 218730)\t1\n",
      "  (0, 230271)\t1\n",
      "  (0, 229444)\t1\n",
      "  :\t:\n",
      "  (267255, 227960)\t1\n",
      "  (267255, 142195)\t1\n",
      "  (267255, 192275)\t1\n",
      "  (267255, 202145)\t1\n",
      "  (267255, 187090)\t1\n",
      "  (267255, 131451)\t1\n",
      "  (267255, 132243)\t1\n",
      "  (267255, 220693)\t1\n",
      "  (267255, 2265)\t1\n",
      "  (267255, 229361)\t1\n",
      "  (267255, 243861)\t1\n",
      "  (267255, 213305)\t1\n",
      "  (267255, 233124)\t1\n",
      "  (267255, 188798)\t1\n",
      "  (267255, 220668)\t1\n",
      "  (267255, 217981)\t1\n",
      "  (267255, 197588)\t1\n",
      "  (267255, 193052)\t1\n",
      "  (267255, 218993)\t1\n",
      "  (267255, 201251)\t1\n",
      "  (267255, 199611)\t1\n",
      "  (267255, 199313)\t1\n",
      "  (267255, 205186)\t1\n",
      "  (267255, 228898)\t1\n",
      "  (267255, 182482)\t1\n"
     ]
    }
   ],
   "source": [
    "print(x_train_vec)"
   ]
  },
  {
   "cell_type": "code",
   "execution_count": 7,
   "metadata": {},
   "outputs": [
    {
     "data": {
      "text/plain": [
       "<29696x252361 sparse matrix of type '<class 'numpy.int64'>'\n",
       "\twith 1000608 stored elements in Compressed Sparse Row format>"
      ]
     },
     "execution_count": 7,
     "metadata": {},
     "output_type": "execute_result"
    }
   ],
   "source": [
    "x_test_vec = vec.transform(x_test_df.values.astype('U'))\n",
    "x_test_vec"
   ]
  },
  {
   "cell_type": "code",
   "execution_count": 8,
   "metadata": {},
   "outputs": [],
   "source": [
    "from sklearn.naive_bayes import MultinomialNB\n",
    "clf = MultinomialNB()"
   ]
  },
  {
   "cell_type": "code",
   "execution_count": 9,
   "metadata": {},
   "outputs": [],
   "source": [
    "md1=clf.fit(x_train_vec, y_train_df)"
   ]
  },
  {
   "cell_type": "code",
   "execution_count": 10,
   "metadata": {},
   "outputs": [
    {
     "data": {
      "text/plain": [
       "0.7911839978448276"
      ]
     },
     "execution_count": 10,
     "metadata": {},
     "output_type": "execute_result"
    }
   ],
   "source": [
    "from sklearn.metrics import accuracy_score\n",
    "pre = clf.predict(x_test_vec)\n",
    "accuracy_score(pre, y_test_df)"
   ]
  },
  {
   "cell_type": "code",
   "execution_count": 11,
   "metadata": {},
   "outputs": [
    {
     "name": "stdout",
     "output_type": "stream",
     "text": [
      "0.8049267643142477 2 6008\n",
      "0.5656934306569343 3 2466\n",
      "0.8061785865425307 4 2363\n",
      "0.7229070364663585 5 3894\n",
      "0.7747831887925284 6 7495\n",
      "0.9018741633199464 7 7470\n"
     ]
    }
   ],
   "source": [
    "from sklearn.metrics import confusion_matrix\n",
    "import numpy as np\n",
    "import csv\n",
    "label = [\"其他專業\", \"客服支援\", \"教育傳播\",\"管理財經\",\"行銷業務\",\"製造工程\"]\n",
    "label1 = [\"生產管理\",\"工程研發\",\"製圖測量\",\"營建施作\",\"營建規劃\",\"MIS網管\",\n",
    "         \"品管安規\",\"軟體工程\",\"製程規劃\",\"環境衛生\",\"生技研發\",\"化工研發\"]\n",
    "label01 = [(s + \"(正確)\") for s in label]\n",
    "label02 = [(s + \"(預測)\") for s in label]\n",
    "\n",
    "pd.DataFrame(confusion_matrix(y_test_df, pre),\n",
    "             columns=label02,\n",
    "             index=label01)\n",
    "#confusion_matrix(y_test_df, pre)\n",
    "array = confusion_matrix(y_test_df, pre)\n",
    "with open('testop1.csv'  , 'w', newline='', encoding='utf-8') as csvfile:\n",
    "    #writer = csv.writer(csvfile)\n",
    "    #writer.writerow(label)\n",
    "    list=array.tolist()\n",
    "    j=2\n",
    "    #list1=[]\n",
    "    for i in range(len(list)):\n",
    "        #print(list[j][i],i,sum(list[j]))\n",
    "        #writer.writerow(list[i])\n",
    "        print(list[i][i]/sum(list[i]),i+2,sum(list[i]))\n",
    "        #x=(list[i][i]/sum(list[i]))\n",
    "        #list1.append(x)\n",
    "    #print(sum(list1)/44)"
   ]
  },
  {
   "cell_type": "code",
   "execution_count": 12,
   "metadata": {},
   "outputs": [],
   "source": [
    "import pickle #pickle模組\n",
    "\n",
    "#儲存Model(注:save資料夾要預先建立，否則會報錯)\n",
    "with open('C:/Users/Big data/PycharmProjects/PYETL/model/big1.pickle', 'wb') as f:\n",
    "    pickle.dump(md1, f)"
   ]
  },
  {
   "cell_type": "code",
   "execution_count": 45,
   "metadata": {},
   "outputs": [
    {
     "name": "stdout",
     "output_type": "stream",
     "text": [
      "工作內容:遊戲\n",
      "工作內容應屬於: 製造工程\n",
      "工作內容應屬於: 軟體工程\n"
     ]
    }
   ],
   "source": [
    "s = input(\"工作內容:\")\n",
    "c = poemcut(s)\n",
    "v = vec.transform([c])\n",
    "print(\"工作內容應屬於:\", label[clf.predict(v)[0]])\n",
    "if label[clf.predict(v)[0]] == \"製造工程\":\n",
    "    train_df1 = pd.read_csv(\"job1/jobcut(big)_製造工程.csv\", encoding=\"utf-8\")\n",
    "    trans1 = {\"生產管理\":0,\"工程研發\":1,\"製圖測量\":2,\"營建施作\":3,\"營建規劃\":4,\"MIS網管\":5,\n",
    "         \"品管安規\":6,\"軟體工程\":7,\"製程規劃\":8,\"環境衛生\":9,\"生技研發\":10,\"化工研發\":11}\n",
    "    train_df1[\"職缺中\"] = train_df1[\"職缺中\"].replace(trans1)\n",
    "    x_train_df1, x_test_df1, y_train_df1, y_test_df1 =train_test_split(train_df1[\"工作內容斷詞後\"],train_df1[\"職缺中\"],test_size=0.1)\n",
    "    vec1 = CountVectorizer()\n",
    "    x_train_vec1 = vec1.fit_transform(x_train_df1.values.astype('U'))\n",
    "    x_test_vec1 = vec1.transform(x_test_df1.values.astype('U'))\n",
    "    clf1 = MultinomialNB()\n",
    "    md2=clf1.fit(x_train_vec1, y_train_df1)\n",
    "    pre1 = clf1.predict(x_test_vec1)\n",
    "    accuracy_score(pre1, y_test_df1)\n",
    "    label1 = [\"生產管理\",\"工程研發\",\"製圖測量\",\"營建施作\",\"營建規劃\",\"MIS網管\",\n",
    "             \"品管安規\",\"軟體工程\",\"製程規劃\",\"環境衛生\",\"生技研發\",\"化工研發\"]\n",
    "    label01 = [(s + \"(正確)\") for s in label1]\n",
    "    label02 = [(s + \"(預測)\") for s in label1]\n",
    "\n",
    "    pd.DataFrame(confusion_matrix(y_test_df1, pre1),\n",
    "                 columns=label02,\n",
    "                 index=label01)\n",
    "    v1 = vec1.transform([c])\n",
    "    print(\"工作內容應屬於:\", label1[clf1.predict(v1)[0]])\n",
    "if label[clf.predict(v)[0]] == \"其他專業\":\n",
    "    train_df2 = pd.read_csv(\"job1/jobcut(big)_其他專業.csv\", encoding=\"utf-8\")\n",
    "    trans2 = {\"操作技術\":0,\"醫療專業\":1,\"餐飲專業\":2,\"運輸物流\":3,\"採購倉管\":4,\"軍警消防\":5,\n",
    "              \"醫療保健\":6,\"保全警衛\":7,\"其他專業\":8,\"農林漁牧\":9}\n",
    "    train_df2[\"職缺中\"] = train_df2[\"職缺中\"].replace(trans2)\n",
    "    x_train_df2, x_test_df2, y_train_df2, y_test_df2 =train_test_split(train_df2[\"工作內容斷詞後\"],train_df2[\"職缺中\"],test_size=0.1)\n",
    "    vec2 = CountVectorizer()\n",
    "    x_train_vec2 = vec2.fit_transform(x_train_df2.values.astype('U'))\n",
    "    x_test_vec2 = vec2.transform(x_test_df2.values.astype('U'))\n",
    "    clf2 = MultinomialNB()\n",
    "    md3=clf2.fit(x_train_vec2, y_train_df2)\n",
    "    pre2 = clf2.predict(x_test_vec2)\n",
    "    accuracy_score(pre2, y_test_df2)\n",
    "    label2 = [\"操作技術\",\"醫療專業\",\"餐飲專業\",\"運輸物流\",\"採購倉管\",\"軍警消防\",\n",
    "              \"醫療保健\",\"保全警衛\",\"其他專業\",\"農林漁牧\"]\n",
    "    label01 = [(s + \"(正確)\") for s in label2]\n",
    "    label02 = [(s + \"(預測)\") for s in label2]\n",
    "\n",
    "    pd.DataFrame(confusion_matrix(y_test_df2, pre2),\n",
    "                 columns=label02,\n",
    "                 index=label01)\n",
    "    v2 = vec2.transform([c])\n",
    "    print(\"工作內容應屬於:\", label2[clf2.predict(v2)[0]])\n",
    "if label[clf.predict(v)[0]] == \"客服支援\":\n",
    "    train_df3 = pd.read_csv(\"job1/jobcut(big)_客服支援.csv\", encoding=\"utf-8\")\n",
    "    trans3 = {\"美容美髮\":0,\"旅遊休閒\":1,\"維修服務\":2,\"客戶服務\":3}\n",
    "    train_df3[\"職缺中\"] = train_df3[\"職缺中\"].replace(trans3)\n",
    "    x_train_df3, x_test_df3, y_train_df3, y_test_df3 =train_test_split(train_df3[\"工作內容斷詞後\"],train_df3[\"職缺中\"],test_size=0.1)\n",
    "    vec3 = CountVectorizer()\n",
    "    x_train_vec3 = vec3.fit_transform(x_train_df3.values.astype('U'))\n",
    "    x_test_vec3 = vec3.transform(x_test_df3.values.astype('U'))\n",
    "    clf3 = MultinomialNB()\n",
    "    md4=clf3.fit(x_train_vec3, y_train_df3)\n",
    "    pre3 = clf3.predict(x_test_vec3)\n",
    "    accuracy_score(pre3, y_test_df3)\n",
    "    label3 = [\"美容美髮\",\"旅遊休閒\",\"維修服務\",\"客戶服務\"]\n",
    "    label01 = [(s + \"(正確)\") for s in label3]\n",
    "    label02 = [(s + \"(預測)\") for s in label3]\n",
    "\n",
    "    pd.DataFrame(confusion_matrix(y_test_df3, pre3),\n",
    "                 columns=label02,\n",
    "                 index=label01)\n",
    "    v3 = vec3.transform([c])\n",
    "    print(\"工作內容應屬於:\", label3[clf3.predict(v3)[0]])\n",
    "if label[clf.predict(v)[0]] == \"教育傳播\":\n",
    "    train_df4 = pd.read_csv(\"job1/jobcut(big)_教育傳播.csv\", encoding=\"utf-8\")\n",
    "    trans4 = {\"教育輔導\":0,\"文字編譯\":1,\"藝術設計\":2,\"學術研究\":3,\"傳播藝術\":4,\"傳媒採訪\":5}\n",
    "    train_df4[\"職缺中\"] = train_df4[\"職缺中\"].replace(trans4)\n",
    "    x_train_df4, x_test_df4, y_train_df4, y_test_df4 =train_test_split(train_df4[\"工作內容斷詞後\"],train_df4[\"職缺中\"],test_size=0.1)\n",
    "    vec4 = CountVectorizer()\n",
    "    x_train_vec4 = vec4.fit_transform(x_train_df4.values.astype('U'))\n",
    "    x_test_vec4 = vec4.transform(x_test_df4.values.astype('U'))\n",
    "    clf4 = MultinomialNB()\n",
    "    md5=clf4.fit(x_train_vec4, y_train_df4)\n",
    "    pre4 = clf4.predict(x_test_vec4)\n",
    "    accuracy_score(pre4, y_test_df4)\n",
    "    label4 = [\"教育輔導\",\"文字編譯\",\"藝術設計\",\"學術研究\",\"傳播藝術\",\"傳媒採訪\"]\n",
    "    label01 = [(s + \"(正確)\") for s in label4]\n",
    "    label02 = [(s + \"(預測)\") for s in label4]\n",
    "\n",
    "    pd.DataFrame(confusion_matrix(y_test_df4, pre4),\n",
    "                 columns=label02,\n",
    "                 index=label01)\n",
    "    v4 = vec4.transform([c])\n",
    "    print(\"工作內容應屬於:\", label4[clf4.predict(v4)[0]])\n",
    "if label[clf.predict(v)[0]] == \"管理財經\":\n",
    "    train_df5 = pd.read_csv(\"job1/jobcut(big)_管理財經.csv\", encoding=\"utf-8\")\n",
    "    trans5 = {\"金融專業\":0,\"行政總務\":1,\"財會稅務\":2,\"法務智財\":3,\"人力資源\":4,\"經營幕僚\":5}\n",
    "    train_df5[\"職缺中\"] = train_df5[\"職缺中\"].replace(trans5)\n",
    "    x_train_df5, x_test_df5, y_train_df5, y_test_df5 =train_test_split(train_df5[\"工作內容斷詞後\"],train_df5[\"職缺中\"],test_size=0.1)\n",
    "    vec5 = CountVectorizer()\n",
    "    x_train_vec5 = vec5.fit_transform(x_train_df5.values.astype('U'))\n",
    "    x_test_vec5 = vec5.transform(x_test_df5.values.astype('U'))\n",
    "    clf5 = MultinomialNB()\n",
    "    md6=clf5.fit(x_train_vec5, y_train_df5)\n",
    "    pre5 = clf5.predict(x_test_vec5)\n",
    "    accuracy_score(pre5, y_test_df5)\n",
    "    label5 = [\"金融專業\",\"行政總務\",\"財會稅務\",\"法務智財\",\"人力資源\",\"經營幕僚\"]\n",
    "    label01 = [(s + \"(正確)\") for s in label5]\n",
    "    label02 = [(s + \"(預測)\") for s in label5]\n",
    "\n",
    "    pd.DataFrame(confusion_matrix(y_test_df5, pre5),\n",
    "                 columns=label02,\n",
    "                 index=label01)\n",
    "    v5 = vec5.transform([c])\n",
    "    print(\"工作內容應屬於:\", label5[clf5.predict(v5)[0]])\n",
    "if label[clf.predict(v)[0]] == \"行銷業務\":\n",
    "    train_df6 = pd.read_csv(\"job1/jobcut(big)_行銷業務.csv\", encoding=\"utf-8\")\n",
    "    trans6 = {\"業務銷售\":0,\"行銷廣告\":1,\"門市管理\":2,\"產品企劃\":3,\"貿易船務\":4,\"專案管理\":5}\n",
    "    train_df6[\"職缺中\"] = train_df6[\"職缺中\"].replace(trans6)\n",
    "    x_train_df6, x_test_df6, y_train_df6, y_test_df6 =train_test_split(train_df6[\"工作內容斷詞後\"],train_df6[\"職缺中\"],test_size=0.1)\n",
    "    vec6 = CountVectorizer()\n",
    "    x_train_vec6 = vec6.fit_transform(x_train_df6.values.astype('U'))\n",
    "    x_test_vec6 = vec6.transform(x_test_df6.values.astype('U'))\n",
    "    clf6 = MultinomialNB()\n",
    "    md7=clf6.fit(x_train_vec6, y_train_df6)\n",
    "    pre6 = clf6.predict(x_test_vec6)\n",
    "    accuracy_score(pre6, y_test_df6)\n",
    "    label6 = [\"業務銷售\",\"行銷廣告\",\"門市管理\",\"產品企劃\",\"貿易船務\",\"專案管理\"]\n",
    "    label01 = [(s + \"(正確)\") for s in label6]\n",
    "    label02 = [(s + \"(預測)\") for s in label6]\n",
    "\n",
    "    pd.DataFrame(confusion_matrix(y_test_df6, pre6),\n",
    "                 columns=label02,\n",
    "                 index=label01)\n",
    "    v6 = vec6.transform([c])\n",
    "    print(\"工作內容應屬於:\", label6[clf6.predict(v6)[0]])"
   ]
  },
  {
   "cell_type": "code",
   "execution_count": 31,
   "metadata": {},
   "outputs": [
    {
     "name": "stdout",
     "output_type": "stream",
     "text": [
      "工作內容應屬於: 保全警衛\n"
     ]
    }
   ],
   "source": [
    "if label[clf.predict(v)[0]] == \"其他專業\":\n",
    "    train_df2 = pd.read_csv(\"job1/jobcut(big)_其他專業.csv\", encoding=\"utf-8\")\n",
    "    trans2 = {\"操作技術\":0,\"醫療專業\":1,\"餐飲專業\":2,\"運輸物流\":3,\"採購倉管\":4,\"軍警消防\":5,\n",
    "              \"醫療保健\":6,\"保全警衛\":7,\"其他專業\":8,\"農林漁牧\":9}\n",
    "    train_df2[\"職缺中\"] = train_df2[\"職缺中\"].replace(trans2)\n",
    "    x_train_df2, x_test_df2, y_train_df2, y_test_df2 =train_test_split(train_df2[\"工作內容斷詞後\"],train_df2[\"職缺中\"],test_size=0.1)\n",
    "    vec2 = CountVectorizer()\n",
    "    x_train_vec2 = vec2.fit_transform(x_train_df2.values.astype('U'))\n",
    "    x_test_vec2 = vec2.transform(x_test_df2.values.astype('U'))\n",
    "    clf2 = MultinomialNB()\n",
    "    md3=clf2.fit(x_train_vec2, y_train_df2)\n",
    "    pre2 = clf2.predict(x_test_vec2)\n",
    "    accuracy_score(pre2, y_test_df2)\n",
    "    label2 = [\"操作技術\",\"醫療專業\",\"餐飲專業\",\"運輸物流\",\"採購倉管\",\"軍警消防\",\n",
    "              \"醫療保健\",\"保全警衛\",\"其他專業\",\"農林漁牧\"]\n",
    "    label01 = [(s + \"(正確)\") for s in label2]\n",
    "    label02 = [(s + \"(預測)\") for s in label2]\n",
    "\n",
    "    pd.DataFrame(confusion_matrix(y_test_df2, pre2),\n",
    "                 columns=label02,\n",
    "                 index=label01)\n",
    "    v2 = vec2.transform([c])\n",
    "    print(\"工作內容應屬於:\", label2[clf2.predict(v2)[0]])"
   ]
  },
  {
   "cell_type": "code",
   "execution_count": 42,
   "metadata": {},
   "outputs": [
    {
     "name": "stdout",
     "output_type": "stream",
     "text": [
      "工作內容應屬於: 美容美髮\n"
     ]
    }
   ],
   "source": [
    "if label[clf.predict(v)[0]] == \"客服支援\":\n",
    "    train_df3 = pd.read_csv(\"job1/jobcut(big)_客服支援.csv\", encoding=\"utf-8\")\n",
    "    trans3 = {\"美容美髮\":0,\"旅遊休閒\":1,\"維修服務\":2,\"客戶服務\":3}\n",
    "    train_df3[\"職缺中\"] = train_df3[\"職缺中\"].replace(trans3)\n",
    "    x_train_df3, x_test_df3, y_train_df3, y_test_df3 =train_test_split(train_df3[\"工作內容斷詞後\"],train_df3[\"職缺中\"],test_size=0.1)\n",
    "    vec3 = CountVectorizer()\n",
    "    x_train_vec3 = vec3.fit_transform(x_train_df3.values.astype('U'))\n",
    "    x_test_vec3 = vec3.transform(x_test_df3.values.astype('U'))\n",
    "    clf3 = MultinomialNB()\n",
    "    md4=clf3.fit(x_train_vec3, y_train_df3)\n",
    "    pre3 = clf3.predict(x_test_vec3)\n",
    "    accuracy_score(pre3, y_test_df3)\n",
    "    label3 = [\"美容美髮\",\"旅遊休閒\",\"維修服務\",\"客戶服務\"]\n",
    "    label01 = [(s + \"(正確)\") for s in label3]\n",
    "    label02 = [(s + \"(預測)\") for s in label3]\n",
    "\n",
    "    pd.DataFrame(confusion_matrix(y_test_df3, pre3),\n",
    "                 columns=label02,\n",
    "                 index=label01)\n",
    "    v3 = vec3.transform([c])\n",
    "    print(\"工作內容應屬於:\", label3[clf3.predict(v3)[0]])"
   ]
  },
  {
   "cell_type": "code",
   "execution_count": 33,
   "metadata": {},
   "outputs": [
    {
     "name": "stdout",
     "output_type": "stream",
     "text": [
      "工作內容應屬於: 文字編譯\n"
     ]
    }
   ],
   "source": [
    "if label[clf.predict(v)[0]] == \"教育傳播\":\n",
    "    train_df4 = pd.read_csv(\"job1/jobcut(big)_教育傳播.csv\", encoding=\"utf-8\")\n",
    "    trans4 = {\"教育輔導\":0,\"文字編譯\":1,\"藝術設計\":2,\"學術研究\":3,\"傳播藝術\":4,\"傳媒採訪\":5}\n",
    "    train_df4[\"職缺中\"] = train_df4[\"職缺中\"].replace(trans4)\n",
    "    x_train_df4, x_test_df4, y_train_df4, y_test_df4 =train_test_split(train_df4[\"工作內容斷詞後\"],train_df4[\"職缺中\"],test_size=0.1)\n",
    "    vec4 = CountVectorizer()\n",
    "    x_train_vec4 = vec4.fit_transform(x_train_df4.values.astype('U'))\n",
    "    x_test_vec4 = vec4.transform(x_test_df4.values.astype('U'))\n",
    "    clf4 = MultinomialNB()\n",
    "    md5=clf4.fit(x_train_vec4, y_train_df4)\n",
    "    pre4 = clf4.predict(x_test_vec4)\n",
    "    accuracy_score(pre4, y_test_df4)\n",
    "    label4 = [\"教育輔導\",\"文字編譯\",\"藝術設計\",\"學術研究\",\"傳播藝術\",\"傳媒採訪\"]\n",
    "    label01 = [(s + \"(正確)\") for s in label4]\n",
    "    label02 = [(s + \"(預測)\") for s in label4]\n",
    "\n",
    "    pd.DataFrame(confusion_matrix(y_test_df4, pre4),\n",
    "                 columns=label02,\n",
    "                 index=label01)\n",
    "    v4 = vec4.transform([c])\n",
    "    print(\"工作內容應屬於:\", label4[clf4.predict(v4)[0]])"
   ]
  },
  {
   "cell_type": "code",
   "execution_count": 37,
   "metadata": {},
   "outputs": [
    {
     "name": "stdout",
     "output_type": "stream",
     "text": [
      "工作內容應屬於: 財會稅務\n"
     ]
    }
   ],
   "source": [
    "if label[clf.predict(v)[0]] == \"管理財經\":\n",
    "    train_df5 = pd.read_csv(\"job1/jobcut(big)_管理財經.csv\", encoding=\"utf-8\")\n",
    "    trans5 = {\"金融專業\":0,\"行政總務\":1,\"財會稅務\":2,\"法務智財\":3,\"人力資源\":4,\"經營幕僚\":5}\n",
    "    train_df5[\"職缺中\"] = train_df5[\"職缺中\"].replace(trans5)\n",
    "    x_train_df5, x_test_df5, y_train_df5, y_test_df5 =train_test_split(train_df5[\"工作內容斷詞後\"],train_df5[\"職缺中\"],test_size=0.1)\n",
    "    vec5 = CountVectorizer()\n",
    "    x_train_vec5 = vec5.fit_transform(x_train_df5.values.astype('U'))\n",
    "    x_test_vec5 = vec5.transform(x_test_df5.values.astype('U'))\n",
    "    clf5 = MultinomialNB()\n",
    "    md6=clf5.fit(x_train_vec5, y_train_df5)\n",
    "    pre5 = clf5.predict(x_test_vec5)\n",
    "    accuracy_score(pre5, y_test_df5)\n",
    "    label5 = [\"金融專業\",\"行政總務\",\"財會稅務\",\"法務智財\",\"人力資源\",\"經營幕僚\"]\n",
    "    label01 = [(s + \"(正確)\") for s in label5]\n",
    "    label02 = [(s + \"(預測)\") for s in label5]\n",
    "\n",
    "    pd.DataFrame(confusion_matrix(y_test_df5, pre5),\n",
    "                 columns=label02,\n",
    "                 index=label01)\n",
    "    v5 = vec5.transform([c])\n",
    "    print(\"工作內容應屬於:\", label5[clf5.predict(v5)[0]])"
   ]
  },
  {
   "cell_type": "code",
   "execution_count": 39,
   "metadata": {},
   "outputs": [
    {
     "name": "stdout",
     "output_type": "stream",
     "text": [
      "工作內容應屬於: 門市管理\n"
     ]
    }
   ],
   "source": [
    "if label[clf.predict(v)[0]] == \"行銷業務\":\n",
    "    train_df6 = pd.read_csv(\"job1/jobcut(big)_行銷業務.csv\", encoding=\"utf-8\")\n",
    "    trans6 = {\"業務銷售\":0,\"行銷廣告\":1,\"門市管理\":2,\"產品企劃\":3,\"貿易船務\":4,\"專案管理\":5}\n",
    "    train_df6[\"職缺中\"] = train_df6[\"職缺中\"].replace(trans6)\n",
    "    x_train_df6, x_test_df6, y_train_df6, y_test_df6 =train_test_split(train_df6[\"工作內容斷詞後\"],train_df6[\"職缺中\"],test_size=0.1)\n",
    "    vec6 = CountVectorizer()\n",
    "    x_train_vec6 = vec6.fit_transform(x_train_df6.values.astype('U'))\n",
    "    x_test_vec6 = vec6.transform(x_test_df6.values.astype('U'))\n",
    "    clf6 = MultinomialNB()\n",
    "    md7=clf6.fit(x_train_vec6, y_train_df6)\n",
    "    pre6 = clf6.predict(x_test_vec6)\n",
    "    accuracy_score(pre6, y_test_df6)\n",
    "    label6 = [\"業務銷售\",\"行銷廣告\",\"門市管理\",\"產品企劃\",\"貿易船務\",\"專案管理\"]\n",
    "    label01 = [(s + \"(正確)\") for s in label6]\n",
    "    label02 = [(s + \"(預測)\") for s in label6]\n",
    "\n",
    "    pd.DataFrame(confusion_matrix(y_test_df6, pre6),\n",
    "                 columns=label02,\n",
    "                 index=label01)\n",
    "    v6 = vec6.transform([c])\n",
    "    print(\"工作內容應屬於:\", label6[clf6.predict(v6)[0]])"
   ]
  },
  {
   "cell_type": "code",
   "execution_count": null,
   "metadata": {},
   "outputs": [],
   "source": []
  }
 ],
 "metadata": {
  "kernelspec": {
   "display_name": "Python 3",
   "language": "python",
   "name": "python3"
  },
  "language_info": {
   "codemirror_mode": {
    "name": "ipython",
    "version": 3
   },
   "file_extension": ".py",
   "mimetype": "text/x-python",
   "name": "python",
   "nbconvert_exporter": "python",
   "pygments_lexer": "ipython3",
   "version": "3.7.0"
  }
 },
 "nbformat": 4,
 "nbformat_minor": 2
}
